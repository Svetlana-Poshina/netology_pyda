{
 "cells": [
  {
   "cell_type": "markdown",
   "metadata": {},
   "source": [
    "**Задание 1**. Даны 2 строки: *long_phrase* и *short_phrase*. \n",
    "Напишите код, который проверяет действительно ли длинная фраза *long_phrase* длиннее короткой *short_phrase*. И выводит *True* или *False* в зависимости от результата сравнения."
   ]
  },
  {
   "cell_type": "code",
   "execution_count": null,
   "metadata": {},
   "outputs": [],
   "source": [
    "long_phrase = 'Насколько прощше было бы писать программы, если бы не заказчики'\n",
    "short_phrase = '640Кб должно хватить для любых задач. Билл Гейтс (по легенде)'"
   ]
  },
  {
   "cell_type": "code",
   "execution_count": null,
   "metadata": {},
   "outputs": [],
   "source": [
    "# Не смогла сделать в обобщенном варианте\n",
    "len ('Насколько прощше было бы писать программы, если бы не заказчики')\\\n",
    "> len ('640Кб должно хватить для любых задач. Билл Гейтс (по легенде)')"
   ]
  },
  {
   "cell_type": "markdown",
   "metadata": {},
   "source": [
    "**Задание 2**. Дано значение объема файла в байтах. Напишите перевод этого значения в мегабайты в формате: \"*Объем файла равен 213.68Mb*\""
   ]
  },
  {
   "cell_type": "code",
   "execution_count": null,
   "metadata": {},
   "outputs": [],
   "source": [
    "print ('Введите объем файла в байтах')\n",
    "v = int(input())\n",
    "vmb = v / 10**6\n",
    "print ('Объем файла равен', vmb, 'Mb')"
   ]
  },
  {
   "cell_type": "code",
   "execution_count": null,
   "metadata": {},
   "outputs": [],
   "source": [
    "print ('Введите объем файла в байтах')\n",
    "v = int(input())\n",
    "vmb = v / 2 ** 20\n",
    "print ('Объем файла равен', vmb, 'Mb')"
   ]
  },
  {
   "cell_type": "markdown",
   "metadata": {},
   "source": [
    "**Задание 3**. Разработать приложение для определения знака зодиака по дате рождения. Пример:\n",
    "\n",
    "Введите месяц: март\n",
    "\n",
    "Введите число: 6\n",
    "\n",
    "Вывод:\n",
    "Рыбы"
   ]
  },
  {
   "cell_type": "code",
   "execution_count": null,
   "metadata": {},
   "outputs": [],
   "source": [
    "# Задание не  сделано, но в чем ошибка понять не могу\n",
    "print ('Введите месяц рождения')\n",
    "month = input()\n",
    "print ('Введите день рождения')\n",
    "a = input()\n",
    "if ( month == 'Январь' or month == '1') and a < '21':\n",
    "    print ('Козерог')\n",
    "elif ( month == 'Январь' or month == '1') and a >= '21':\n",
    "    print ('Водолей')\n",
    "    if ( month == 'Февраль' or month == '2') and a < '21':\n",
    "        print ('Водолей')\n",
    "    elif ( month == 'Февраль' or month == '2') and a >= '21':\n",
    "        print ('Рыбы')\n",
    "        if ( month == 'Март' or month == '3') and a < '21':\n",
    "            print ('Рыбы')\n",
    "        elif ( month == 'Март' or month == '3') and a >= '21':\n",
    "            print ('Овен')\n",
    "            if ( month == 'Апрель' or month == '4') and a < '21':\n",
    "                print ('Овен')\n",
    "            elif ( month == 'Апрель' or month == '4') and a >= '21':\n",
    "                print ('Телец')\n",
    "                if ( month == 'Май' or month == '5') and a < '21':\n",
    "                    print ('Телец')\n",
    "                elif ( month == 'Май' or month == '5') and a >= '21':\n",
    "                    print ('Близнецы')\n",
    "                    if ( month == 'Июнь' or month == '6') and a < '22':\n",
    "                        print ('Близнецы')\n",
    "                    elif ( month == 'Июнь' or month == '6') and a >= '22':\n",
    "                        print ('Рак')\n",
    "                        if ( month == 'Июль' or month == '7') and a < '23':\n",
    "                            print ('Рак')\n",
    "                        elif ( month == 'Июль' or month == '7') and a >= '23':\n",
    "                            print ('Лев')\n",
    "                            if ( month == 'Август' or month == '8') and a < '24':\n",
    "                                print ('Лев')\n",
    "                            elif ( month == 'Август' or month == '8') and a >= '24':\n",
    "                                print ('Дева')\n",
    "                                if ( month == 'Сентябрь' or month == '9') and a < '24':\n",
    "                                    print ('Дева')\n",
    "                                elif ( month == 'Сентябрь' or month == '9') and a >= '24':\n",
    "                                    print ('Весы')\n",
    "                                    if ( month == 'Октябрь' or month == '10') and a < '24':\n",
    "                                        print ('Весы')\n",
    "                                    elif ( month == 'Октябрь' or month == '10') and a >= '24':\n",
    "                                        print ('Скорпион')\n",
    "                                        if ( month == 'Ноябрь' or month == '11') and a < '23':\n",
    "                                            print ('Скорпион')\n",
    "                                        elif ( month == 'Ноябрь' or month == '11') and a >= '23':\n",
    "                                            print ('Стрелец')\n",
    "                                            if ( month == 'Декабрь' or month == '12') and a < '22':\n",
    "                                                print ('Стрелец')\n",
    "                                            elif ( month == 'Декабрь' or month == '12') and a >= '22':\n",
    "                                                print ('Козерог')\n",
    "                                            "
   ]
  },
  {
   "cell_type": "markdown",
   "metadata": {},
   "source": [
    "**Задание 4**. Нужно разработать приложение для финансового планирования.\n",
    "Приложение учитывает сколько уходит на ипотеку, \"на жизнь\" и сколько нужно отложить на пенсию.\n",
    "Пользователь вводит:\n",
    "- заработанную плату в месяц.\n",
    "- сколько процентов от ЗП уходит на ипотеку.\n",
    "- сколько процентов от ЗП уходит \"на жизнь\".\n",
    "- сколько раз приходит премия в год.\n",
    "\n",
    "Остальная часть заработанной платы откладывается на пенсию.\n",
    "\n",
    "Также пользователю приходит премия в размере зарплаты, от которой половина уходит на отпуск, а вторая половина откладывается.\n",
    "\n",
    "Программа должна учитывать сколько премий было в год.\n",
    "\n",
    "Нужно вывести сколько денег тратит пользователь на ипотеку и сколько он накопит за год.\n",
    "\n",
    "Пример:\n",
    "\n",
    "Введите заработанную плату в месяц: 100000\n",
    "\n",
    "Введите сколько процентов уходит на ипотеку: 30\n",
    "\n",
    "Введите сколько процентов уходит на жизнь: 50\n",
    "\n",
    "Введите количество премий за год: 2\n",
    "\n",
    "Вывод:\n",
    "На ипотеку было потрачено: 360000 рублей\n",
    "Было накоплено: 340000 рублей"
   ]
  },
  {
   "cell_type": "code",
   "execution_count": null,
   "metadata": {},
   "outputs": [],
   "source": [
    "# 4е задание\n",
    "print ('Введите заработанную плату в месяц')\n",
    "x = int(input())\n",
    "print ('Введите сколько процентов уходит на ипотеку')\n",
    "ipot = int(input())/ 100\n",
    "print ('Введите сколько процентов уходит на жизнь')\n",
    "j = int(input())/100\n",
    "print ('Введите количество премий в году')\n",
    "p = int(input())\n",
    "a = 12 * x * ipot\n",
    "b = 12 * x * (1 - ipot - j) + p * x / 2\n",
    "print ('На ипотеку было потрачено', a, 'рублей. Было накоплено', b, 'рублей')"
   ]
  }
 ],
 "metadata": {
  "kernelspec": {
   "display_name": "Python 3",
   "language": "python",
   "name": "python3"
  },
  "language_info": {
   "codemirror_mode": {
    "name": "ipython",
    "version": 3
   },
   "file_extension": ".py",
   "mimetype": "text/x-python",
   "name": "python",
   "nbconvert_exporter": "python",
   "pygments_lexer": "ipython3",
   "version": "3.7.4"
  }
 },
 "nbformat": 4,
 "nbformat_minor": 2
}
